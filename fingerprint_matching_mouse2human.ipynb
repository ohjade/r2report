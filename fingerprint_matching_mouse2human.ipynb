{
 "cells": [
  {
   "cell_type": "code",
   "execution_count": 1,
   "id": "5d4d5c9f-c2d6-4964-9dc7-20612d89bd81",
   "metadata": {},
   "outputs": [],
   "source": [
    "import os\n",
    "import sys\n",
    "import numpy as np\n",
    "import nibabel as nib\n",
    "import matplotlib.pyplot as plt\n",
    "import math\n",
    "import pandas as pd\n",
    "from sklearn.metrics.pairwise import cosine_similarity\n",
    "from sklearn.metrics.pairwise import manhattan_distances\n",
    "\n",
    "from tqdm.notebook import tqdm\n",
    "\n",
    "np.set_printoptions(threshold=sys.maxsize)"
   ]
  },
  {
   "cell_type": "code",
   "execution_count": 2,
   "id": "c617834a-81c8-4e1c-a681-5701a5662124",
   "metadata": {},
   "outputs": [
    {
     "name": "stdout",
     "output_type": "stream",
     "text": [
      "(51, 98, 38, 90)\n",
      "(51, 98, 38)\n",
      "mouse 189924 voxels, 90 timepoints\n",
      "mouse_mask2d shape = (189924, 1)\n",
      "mouse_data2d shape = (189924, 90)\n"
     ]
    },
    {
     "data": {
      "image/png": "[encoded data removed]",
      "text/plain": [
       "<Figure size 640x480 with 1 Axes>"
      ]
     },
     "metadata": {},
     "output_type": "display_data"
    }
   ],
   "source": [
    "# Read in mouse data\n",
    "\n",
    "# Read in data\n",
    "mouse_data_img = nib.load('/home/fs0/ssf619/scratch/mouse_migp/mouse_RSN/mouse_migp_reoriented.nii.gz') # mouse migp \n",
    "mouse_data = mouse_data_img.get_fdata()\n",
    "print(mouse_data.shape)\n",
    "\n",
    "#  Mask brain to save computation\n",
    "mouse_mask_img = nib.load('/home/fs0/ssf619/scratch/mouse_migp/mouse_RSN/func_brain_mask_reoriented.nii.gz') # mouse mask from migp\n",
    "mouse_mask = mouse_mask_img.get_fdata()\n",
    "\n",
    "# visualise a slice of mask to check \n",
    "print(mouse_mask.shape)\n",
    "plt.imshow(mouse_mask[:,45,:].T,cmap='Greys_r')\n",
    "\n",
    "mouse_nvoxels = np.prod(mouse_mask.shape)\n",
    "mouse_ntimepoints = mouse_data.shape[3]\n",
    "\n",
    "print(f'mouse {mouse_nvoxels} voxels, {mouse_ntimepoints} timepoints')\n",
    "\n",
    "mouse_mask2d = (mouse_mask.reshape(mouse_nvoxels, 1) > 0)\n",
    "mouse_data2d = mouse_data.reshape(mouse_nvoxels, mouse_ntimepoints)\n",
    "print(f'mouse_mask2d shape = {mouse_mask2d.shape}')\n",
    "print(f'mouse_data2d shape = {mouse_data2d.shape}')\n"
   ]
  },
  {
   "cell_type": "code",
   "execution_count": 3,
   "id": "d6860e45-5c9a-46b0-8949-b431506d4e47",
   "metadata": {},
   "outputs": [
    {
     "name": "stdout",
     "output_type": "stream",
     "text": [
      "2 targets specified and 2 targets named\n"
     ]
    }
   ],
   "source": [
    "# Specify coordinates \n",
    "\n",
    "coords = np.array([\n",
    "    [26, 71, 18],\n",
    "    [26, 72, 21],\n",
    "    [26, 70, 22],\n",
    "    [26, 68, 24],\n",
    "    [26, 65, 25],\n",
    "    [26, 62, 26],\n",
    "    [26, 60, 28],\n",
    "    [26, 58, 29],\n",
    "    [26, 55, 30],\n",
    "    [26, 52, 30],\n",
    "    [29, 50, 31],\n",
    "    [29, 48, 31]])\n",
    "\n",
    "target_coords = np.array([\n",
    "    [36, 48, 23], # ventral hippocampus\n",
    "    [39, 55, 10], # basolateral amygdalar nucleus\n",
    "    [28, 66, 9],  # nucleus accumbens\n",
    "    [27, 59, 9],  # hypothalamus\n",
    "    [32, 66, 18], # medial caudoputamen\n",
    "    [27, 59, 30], # secondary motor area\n",
    "    [33, 54, 31], # parietal association area\n",
    "    [40, 66, 15], # dorsal agranular insula\n",
    "    [32, 75, 18], # orbital area\n",
    "    ])\n",
    "\n",
    "target_coords_names = [\n",
    "    \"hipp\", \n",
    "    \"amyg\",\n",
    "    \"NAcc\", \n",
    "    \"hypo\", \n",
    "    \"caud\", \n",
    "    \"SMA\", \n",
    "    \"SPL\", \n",
    "    \"ins\", \n",
    "    \"OFC\"\n",
    "    ]\n",
    "\n",
    "print(f\"{len(target_coords)} targets specified and {len(target_coords_names)} targets named\")"
   ]
  },
  {
   "cell_type": "code",
   "execution_count": null,
   "id": "b6cc36a4-12b7-4d02-8edf-78821841aa5d",
   "metadata": {},
   "outputs": [],
   "source": []
  },
  {
   "cell_type": "code",
   "execution_count": 4,
   "id": "fd349dd2-1204-4946-a5ef-7209c84df36d",
   "metadata": {},
   "outputs": [],
   "source": [
    "# Calculate seed-target cosine similarity\n",
    "mouse_maskdata2d = mouse_data2d[mouse_mask2d[:, 0] == 1, :] # only calculate masked voxels\n",
    "\n",
    "mouse_seed_ts_list = [mouse_data[coord[0], coord[1], coord[2], :].reshape(1, mouse_ntimepoints) for coord in coords]\n",
    "mouse_target_ts_list = [mouse_data[tcoord[0], tcoord[1], tcoord[2], :].reshape(1, mouse_ntimepoints) for tcoord in target_coords]\n",
    "\n",
    "mouse_radar_datadict = {}\n",
    "\n",
    "for coordi, seed_ts in enumerate(mouse_seed_ts_list):\n",
    "    radar_sim = {}\n",
    "    for tcoordi, target_ts in enumerate(mouse_target_ts_list):\n",
    "        radar_cossim = cosine_similarity(seed_ts, target_ts)\n",
    "        cossim = np.mean(radar_cossim)\n",
    "        radar_sim[f\"target_{tcoordi+1}\"] = cossim\n",
    "\n",
    "    mouse_radar_datadict[f\"seed_{coordi+1}\"] = radar_sim\n",
    "\n",
    "mouse_df = pd.DataFrame.from_dict(mouse_radar_datadict)\n",
    "mouse_df.index = target_coords_names"
   ]
  },
  {
   "cell_type": "code",
   "execution_count": 5,
   "id": "d18121da-6d45-4bc0-b806-8a2fbc881bd2",
   "metadata": {},
   "outputs": [
    {
     "data": {
      "text/html": [
       "<div>\n",
       "<style scoped>\n",
       "    .dataframe tbody tr th:only-of-type {\n",
       "        vertical-align: middle;\n",
       "    }\n",
       "\n",
       "    .dataframe tbody tr th {\n",
       "        vertical-align: top;\n",
       "    }\n",
       "\n",
       "    .dataframe thead th {\n",
       "        text-align: right;\n",
       "    }\n",
       "</style>\n",
       "<table border=\"1\" class=\"dataframe\">\n",
       "  <thead>\n",
       "    <tr style=\"text-align: right;\">\n",
       "      <th></th>\n",
       "      <th>seed_1</th>\n",
       "      <th>seed_2</th>\n",
       "      <th>seed_3</th>\n",
       "      <th>seed_4</th>\n",
       "      <th>seed_5</th>\n",
       "      <th>seed_6</th>\n",
       "      <th>seed_7</th>\n",
       "      <th>seed_8</th>\n",
       "      <th>seed_9</th>\n",
       "      <th>seed_10</th>\n",
       "      <th>seed_11</th>\n",
       "      <th>seed_12</th>\n",
       "    </tr>\n",
       "  </thead>\n",
       "  <tbody>\n",
       "    <tr>\n",
       "      <th>amyg</th>\n",
       "      <td>-0.028168</td>\n",
       "      <td>0.001194</td>\n",
       "      <td>0.001631</td>\n",
       "      <td>-0.018361</td>\n",
       "      <td>-0.070332</td>\n",
       "      <td>-0.050103</td>\n",
       "      <td>-0.022987</td>\n",
       "      <td>-0.047027</td>\n",
       "      <td>-0.071827</td>\n",
       "      <td>-0.087029</td>\n",
       "      <td>-0.099909</td>\n",
       "      <td>-0.071783</td>\n",
       "    </tr>\n",
       "    <tr>\n",
       "      <th>NAcc</th>\n",
       "      <td>0.067355</td>\n",
       "      <td>0.098869</td>\n",
       "      <td>0.087178</td>\n",
       "      <td>0.034499</td>\n",
       "      <td>0.020544</td>\n",
       "      <td>0.056957</td>\n",
       "      <td>0.059112</td>\n",
       "      <td>0.028926</td>\n",
       "      <td>-0.010778</td>\n",
       "      <td>-0.063394</td>\n",
       "      <td>0.056001</td>\n",
       "      <td>0.079653</td>\n",
       "    </tr>\n",
       "  </tbody>\n",
       "</table>\n",
       "</div>"
      ],
      "text/plain": [
       "        seed_1    seed_2    seed_3    seed_4    seed_5    seed_6    seed_7  \\\n",
       "amyg -0.028168  0.001194  0.001631 -0.018361 -0.070332 -0.050103 -0.022987   \n",
       "NAcc  0.067355  0.098869  0.087178  0.034499  0.020544  0.056957  0.059112   \n",
       "\n",
       "        seed_8    seed_9   seed_10   seed_11   seed_12  \n",
       "amyg -0.047027 -0.071827 -0.087029 -0.099909 -0.071783  \n",
       "NAcc  0.028926 -0.010778 -0.063394  0.056001  0.079653  "
      ]
     },
     "execution_count": 5,
     "metadata": {},
     "output_type": "execute_result"
    }
   ],
   "source": [
    " mouse_df"
   ]
  },
  {
   "cell_type": "code",
   "execution_count": 6,
   "id": "de3cdac5-b12b-4942-8808-ac1f498a7c4c",
   "metadata": {},
   "outputs": [],
   "source": [
    "\n",
    "# Normalisation function, columnwise (weakest target = 0, strongest target = 1)\n",
    "def normalize_column(column):\n",
    "    return (column - column.min()) / (column.max() - column.min())"
   ]
  },
  {
   "cell_type": "code",
   "execution_count": 7,
   "id": "4c328dcc-9c40-4399-bc86-d410528d95c1",
   "metadata": {},
   "outputs": [
    {
     "data": {
      "application/vnd.jupyter.widget-view+json": {
       "model_id": "60837ab1f10543d0bc7fd51eac11a5ec",
       "version_major": 2,
       "version_minor": 0
      },
      "text/plain": [
       "normalising columns:   0%|          | 0/12 [00:00<?, ?it/s]"
      ]
     },
     "metadata": {},
     "output_type": "display_data"
    }
   ],
   "source": [
    "# Normalise mouse dataframe columnwise\n",
    "\n",
    "mouse_df_norm = mouse_df.copy()\n",
    "mouse_seeds = [f'seed_{i}' for i in range(1, 13)]\n",
    "\n",
    "for seed in tqdm(mouse_seeds, desc=\"normalising columns\"):\n",
    "    mouse_df_norm[seed] = normalize_column(mouse_df_norm[seed])"
   ]
  },
  {
   "cell_type": "code",
   "execution_count": 8,
   "id": "eefc5c28-3e46-48de-ae65-01f8c1d8ea8c",
   "metadata": {},
   "outputs": [
    {
     "data": {
      "text/html": [
       "<div>\n",
       "<style scoped>\n",
       "    .dataframe tbody tr th:only-of-type {\n",
       "        vertical-align: middle;\n",
       "    }\n",
       "\n",
       "    .dataframe tbody tr th {\n",
       "        vertical-align: top;\n",
       "    }\n",
       "\n",
       "    .dataframe thead th {\n",
       "        text-align: right;\n",
       "    }\n",
       "</style>\n",
       "<table border=\"1\" class=\"dataframe\">\n",
       "  <thead>\n",
       "    <tr style=\"text-align: right;\">\n",
       "      <th></th>\n",
       "      <th>seed_1</th>\n",
       "      <th>seed_2</th>\n",
       "      <th>seed_3</th>\n",
       "      <th>seed_4</th>\n",
       "      <th>seed_5</th>\n",
       "      <th>seed_6</th>\n",
       "      <th>seed_7</th>\n",
       "      <th>seed_8</th>\n",
       "      <th>seed_9</th>\n",
       "      <th>seed_10</th>\n",
       "      <th>seed_11</th>\n",
       "      <th>seed_12</th>\n",
       "    </tr>\n",
       "  </thead>\n",
       "  <tbody>\n",
       "    <tr>\n",
       "      <th>amyg</th>\n",
       "      <td>0.0</td>\n",
       "      <td>0.0</td>\n",
       "      <td>0.0</td>\n",
       "      <td>0.0</td>\n",
       "      <td>0.0</td>\n",
       "      <td>0.0</td>\n",
       "      <td>0.0</td>\n",
       "      <td>0.0</td>\n",
       "      <td>0.0</td>\n",
       "      <td>0.0</td>\n",
       "      <td>0.0</td>\n",
       "      <td>0.0</td>\n",
       "    </tr>\n",
       "    <tr>\n",
       "      <th>NAcc</th>\n",
       "      <td>1.0</td>\n",
       "      <td>1.0</td>\n",
       "      <td>1.0</td>\n",
       "      <td>1.0</td>\n",
       "      <td>1.0</td>\n",
       "      <td>1.0</td>\n",
       "      <td>1.0</td>\n",
       "      <td>1.0</td>\n",
       "      <td>1.0</td>\n",
       "      <td>1.0</td>\n",
       "      <td>1.0</td>\n",
       "      <td>1.0</td>\n",
       "    </tr>\n",
       "  </tbody>\n",
       "</table>\n",
       "</div>"
      ],
      "text/plain": [
       "      seed_1  seed_2  seed_3  seed_4  seed_5  seed_6  seed_7  seed_8  seed_9  \\\n",
       "amyg     0.0     0.0     0.0     0.0     0.0     0.0     0.0     0.0     0.0   \n",
       "NAcc     1.0     1.0     1.0     1.0     1.0     1.0     1.0     1.0     1.0   \n",
       "\n",
       "      seed_10  seed_11  seed_12  \n",
       "amyg      0.0      0.0      0.0  \n",
       "NAcc      1.0      1.0      1.0  "
      ]
     },
     "execution_count": 8,
     "metadata": {},
     "output_type": "execute_result"
    }
   ],
   "source": [
    "mouse_df_norm"
   ]
  },
  {
   "cell_type": "code",
   "execution_count": null,
   "id": "7f8902bb-9474-4b97-8969-506b114d8fbf",
   "metadata": {},
   "outputs": [],
   "source": []
  },
  {
   "cell_type": "markdown",
   "id": "7761e1e9-200c-4457-8e75-183a5568c18b",
   "metadata": {},
   "source": [
    "Calculating fingerprints for human brain voxels"
   ]
  },
  {
   "cell_type": "code",
   "execution_count": 9,
   "id": "0f6cf6fa-17a2-4d91-8011-b2e6d81320d2",
   "metadata": {},
   "outputs": [
    {
     "name": "stdout",
     "output_type": "stream",
     "text": [
      "mask2d shape = (902629, 1)\n",
      "data2d shape = (902629, 120)\n"
     ]
    },
    {
     "data": {
      "image/png": "[encoded data removed]",
      "text/plain": [
       "<Figure size 640x480 with 1 Axes>"
      ]
     },
     "metadata": {},
     "output_type": "display_data"
    }
   ],
   "source": [
    "# Read in migp-ed data\n",
    "\n",
    "# data_img = nib.load('/home/fs0/ssf619/scratch/fingerprinting_test/migp_120comps_100subj.nii.gz') # human migp, without smoothing\n",
    "human_data_img = nib.load('/home/fs0/ssf619/scratch/fingerprinting_test/migp_120comps_100subj_5mm.nii.gz') # human migp, 5mm smoothed\n",
    "\n",
    "human_data = human_data_img.get_fdata()\n",
    "# plt.imshow(data[:,:,45,45].T,cmap='Greys_r') # view for human brain\n",
    "\n",
    "human_mask_img = nib.load('/home/fs0/ssf619/scratch/fingerprinting_test/func_brain_mask.nii.gz') # human mask from migp\n",
    "human_mask = human_mask_img.get_fdata()\n",
    "\n",
    "\n",
    "plt.imshow(human_mask[:,:,45].T,cmap='Greys_r')\n",
    "\n",
    "human_nvoxels = np.prod(human_mask.shape)\n",
    "human_ntimepoints = human_data.shape[3]\n",
    "# Reshape to 2d\n",
    "human_mask2d = (human_mask.reshape(human_nvoxels, 1) > 0)\n",
    "human_data2d = human_data.reshape(human_nvoxels, human_ntimepoints)\n",
    "print(f'mask2d shape = {human_mask2d.shape}')\n",
    "print(f'data2d shape = {human_data2d.shape}')"
   ]
  },
  {
   "cell_type": "code",
   "execution_count": 10,
   "id": "524d291f-9851-4c2e-a23b-aa13702cac0f",
   "metadata": {},
   "outputs": [
    {
     "name": "stdout",
     "output_type": "stream",
     "text": [
      "2 target regions specified and 2 targets named\n"
     ]
    }
   ],
   "source": [
    "# Convert MNI152 coordinates to fsleyes voxel coordinates\n",
    "def mni_to_fsl(coords):\n",
    "    converted_coords = []\n",
    "    for coord in coords:\n",
    "        mni_x, mni_y, mni_z = coord\n",
    "        fsleyes_x = math.trunc((-0.5*mni_x)+45)\n",
    "        fsleyes_y = math.trunc((mni_y + 126)/2)\n",
    "        fsleyes_z = math.trunc((mni_z + 72)/2)\n",
    "        converted_coords.append([fsleyes_x, fsleyes_y, fsleyes_z])\n",
    "\n",
    "    return converted_coords\n",
    "\n",
    "# # Specify MNI coordinates (cingulate seeds from van Hout, 2024)\n",
    "\n",
    "# coords = np.array([[4, 18, -10],\n",
    "#                   [4, 30, -6],\n",
    "#                   [4, 40, 0],\n",
    "#                   [4, 38, 12],\n",
    "#                   [4, 30, 22],\n",
    "#                   [4, 16, 32],\n",
    "#                   [4, 0, 38],\n",
    "#                   [4, -14, 36],\n",
    "#                   [4, -30, 38],\n",
    "#                   [4, -40, 32],\n",
    "#                   [4, -48, 16],\n",
    "#                   [10, -46, 8]])\n",
    "# print(f'{len(coords)} seeds specified')\n",
    "\n",
    "target_coords = np.array([ \n",
    "    [26, -16, -20], # hippocampal formation\n",
    "    [22, -6, -16], # amygdala\n",
    "    [10, 16, -4], # nucleus accumbens\n",
    "    [4, -6, -8], # hypothalamus\n",
    "    [12, 16, 4], # caudate nucleus\n",
    "    [8, -4, 60], # supplementary motor area\n",
    "    [30, -56, 62], # superior parietal lobule\n",
    "    [42, 12, -6], # anterior insula\n",
    "    [6, 30, -20] # orbitofrontal cortex/area 14m\n",
    "    ])\n",
    "\n",
    "target_coords_names = [\n",
    "    \"hipp\", \n",
    "    \"amyg\",\n",
    "    \"NAcc\", \n",
    "    \"hypo\", \n",
    "    \"caud\", \n",
    "    \"SMA\", \n",
    "    \"SPL\", \n",
    "    \"ins\", \n",
    "    \"OFC\"\n",
    "                      ]\n",
    "                       \n",
    "print(f'{len(target_coords)} target regions specified and {len(target_coords_names)} targets named')\n",
    "\n",
    "coords = mni_to_fsl(coords)\n",
    "target_coords = mni_to_fsl(target_coords)\n"
   ]
  },
  {
   "cell_type": "code",
   "execution_count": 11,
   "id": "5ee9b074",
   "metadata": {},
   "outputs": [
    {
     "name": "stdout",
     "output_type": "stream",
     "text": [
      "(902629,)\n"
     ]
    },
    {
     "data": {
      "application/vnd.jupyter.widget-view+json": {
       "model_id": "26b80cf887f64ff0a1c92468dd95bf6e",
       "version_major": 2,
       "version_minor": 0
      },
      "text/plain": [
       "  0%|          | 0/2 [00:00<?, ?it/s]"
      ]
     },
     "metadata": {},
     "output_type": "display_data"
    }
   ],
   "source": [
    "# Calculate human voxel fingerprints\n",
    "\n",
    "column_names = [str(i) for i in range(human_data2d.shape[0])]\n",
    "row_names = target_coords_names\n",
    "human_df = pd.DataFrame(index=row_names, columns=column_names)\n",
    "human_df[:] = np.NaN  # Fill the DataFrame with NaN\n",
    "\n",
    "# Identify the indices where mouse_mask2d is True\n",
    "true_indices = np.where(human_mask2d[:, 0] == 1)[0]\n",
    "true_column_names = [str(i) for i in true_indices]\n",
    "\n",
    "human_maskdata2d = human_data2d.copy()\n",
    "\n",
    "\n",
    "for i in range(len(human_mask2d)):\n",
    "    if human_mask2d[i, 0] != 1:\n",
    "        human_maskdata2d[i, :] = np.NaN\n",
    "\n",
    "\n",
    "valid_rows = ~np.isnan(human_maskdata2d).all(axis=1)\n",
    "print(valid_rows.shape)\n",
    "\n",
    "\n",
    "for tcoordi, tcoord in tqdm(enumerate(target_coords), total=len(target_coords)):  \n",
    "    ts = human_data[tcoord[0], tcoord[1], tcoord[2], :].reshape(human_ntimepoints, 1)\n",
    "\n",
    "    # for rowi, row in tqdm(enumerate(valid_rows), desc=\"Valid Rows\", total = len(valid_rows), leave = True):\n",
    "    valid_human_maskdata2d = human_maskdata2d[valid_rows]\n",
    "\n",
    "    if valid_human_maskdata2d.size > 0:\n",
    "        # Calculate cosine similarity between time series of my coordinate and rest of brain (as specified by the mask)\n",
    "        cossim = cosine_similarity(ts.T, valid_human_maskdata2d)\n",
    "\n",
    "    # # save the results in a volume\n",
    "    # results2d = np.zeros(mouse_mask2d.shape)\n",
    "    # results2d[mouse_mask2d[:, 0]] = cossim.T\n",
    "    # results_coordi = np.zeros(mouse_mask.shape)\n",
    "    # results_coordi[:, :, :] = results2d.reshape(mouse_mask.shape)\n",
    "\n",
    "    # # Save the results for each target\n",
    "    # results_img = nib.Nifti1Image(results_coordi, mouse_mask_img.affine, mouse_mask_img.header)\n",
    "    # # nib.save(results_img, f'mouse_cossim_target{tcoordi}.nii.gz')\n",
    "\n",
    "    # append cossim values to mouse dataframe only if that voxel is \"True\" in the maskdata2d\n",
    "    row_name = target_coords_names[tcoordi]\n",
    "    row_df = pd.DataFrame(cossim, columns=true_column_names, index=[row_name])\n",
    "    human_df.update(row_df) "
   ]
  },
  {
   "cell_type": "code",
   "execution_count": null,
   "id": "b4d4b7b8-55ec-4138-b30c-a1bb29d54391",
   "metadata": {},
   "outputs": [],
   "source": []
  },
  {
   "cell_type": "code",
   "execution_count": 12,
   "id": "f9b2f38f",
   "metadata": {},
   "outputs": [
    {
     "data": {
      "text/html": [
       "<div>\n",
       "<style scoped>\n",
       "    .dataframe tbody tr th:only-of-type {\n",
       "        vertical-align: middle;\n",
       "    }\n",
       "\n",
       "    .dataframe tbody tr th {\n",
       "        vertical-align: top;\n",
       "    }\n",
       "\n",
       "    .dataframe thead th {\n",
       "        text-align: right;\n",
       "    }\n",
       "</style>\n",
       "<table border=\"1\" class=\"dataframe\">\n",
       "  <thead>\n",
       "    <tr style=\"text-align: right;\">\n",
       "      <th></th>\n",
       "      <th>0</th>\n",
       "      <th>1</th>\n",
       "      <th>2</th>\n",
       "      <th>3</th>\n",
       "      <th>4</th>\n",
       "      <th>5</th>\n",
       "      <th>6</th>\n",
       "      <th>7</th>\n",
       "      <th>8</th>\n",
       "      <th>9</th>\n",
       "      <th>...</th>\n",
       "      <th>902619</th>\n",
       "      <th>902620</th>\n",
       "      <th>902621</th>\n",
       "      <th>902622</th>\n",
       "      <th>902623</th>\n",
       "      <th>902624</th>\n",
       "      <th>902625</th>\n",
       "      <th>902626</th>\n",
       "      <th>902627</th>\n",
       "      <th>902628</th>\n",
       "    </tr>\n",
       "  </thead>\n",
       "  <tbody>\n",
       "    <tr>\n",
       "      <th>amyg</th>\n",
       "      <td>NaN</td>\n",
       "      <td>NaN</td>\n",
       "      <td>NaN</td>\n",
       "      <td>NaN</td>\n",
       "      <td>NaN</td>\n",
       "      <td>NaN</td>\n",
       "      <td>NaN</td>\n",
       "      <td>NaN</td>\n",
       "      <td>NaN</td>\n",
       "      <td>NaN</td>\n",
       "      <td>...</td>\n",
       "      <td>NaN</td>\n",
       "      <td>NaN</td>\n",
       "      <td>NaN</td>\n",
       "      <td>NaN</td>\n",
       "      <td>NaN</td>\n",
       "      <td>NaN</td>\n",
       "      <td>NaN</td>\n",
       "      <td>NaN</td>\n",
       "      <td>NaN</td>\n",
       "      <td>NaN</td>\n",
       "    </tr>\n",
       "    <tr>\n",
       "      <th>NAcc</th>\n",
       "      <td>NaN</td>\n",
       "      <td>NaN</td>\n",
       "      <td>NaN</td>\n",
       "      <td>NaN</td>\n",
       "      <td>NaN</td>\n",
       "      <td>NaN</td>\n",
       "      <td>NaN</td>\n",
       "      <td>NaN</td>\n",
       "      <td>NaN</td>\n",
       "      <td>NaN</td>\n",
       "      <td>...</td>\n",
       "      <td>NaN</td>\n",
       "      <td>NaN</td>\n",
       "      <td>NaN</td>\n",
       "      <td>NaN</td>\n",
       "      <td>NaN</td>\n",
       "      <td>NaN</td>\n",
       "      <td>NaN</td>\n",
       "      <td>NaN</td>\n",
       "      <td>NaN</td>\n",
       "      <td>NaN</td>\n",
       "    </tr>\n",
       "  </tbody>\n",
       "</table>\n",
       "<p>2 rows × 902629 columns</p>\n",
       "</div>"
      ],
      "text/plain": [
       "        0    1    2    3    4    5    6    7    8    9  ... 902619 902620  \\\n",
       "amyg  NaN  NaN  NaN  NaN  NaN  NaN  NaN  NaN  NaN  NaN  ...    NaN    NaN   \n",
       "NAcc  NaN  NaN  NaN  NaN  NaN  NaN  NaN  NaN  NaN  NaN  ...    NaN    NaN   \n",
       "\n",
       "     902621 902622 902623 902624 902625 902626 902627 902628  \n",
       "amyg    NaN    NaN    NaN    NaN    NaN    NaN    NaN    NaN  \n",
       "NAcc    NaN    NaN    NaN    NaN    NaN    NaN    NaN    NaN  \n",
       "\n",
       "[2 rows x 902629 columns]"
      ]
     },
     "execution_count": 12,
     "metadata": {},
     "output_type": "execute_result"
    }
   ],
   "source": [
    "human_df"
   ]
  },
  {
   "cell_type": "code",
   "execution_count": 13,
   "id": "891ece69-d8c3-41c6-a7a4-b4816b35cf0d",
   "metadata": {},
   "outputs": [],
   "source": [
    "non_nan_columns = human_df.notna().any()\n",
    "# print(non_nan_columns[non_nan_columns].index.tolist())"
   ]
  },
  {
   "cell_type": "code",
   "execution_count": 14,
   "id": "58890b20-431b-4af7-9721-760f8688c5b3",
   "metadata": {},
   "outputs": [
    {
     "data": {
      "text/html": [
       "<div>\n",
       "<style scoped>\n",
       "    .dataframe tbody tr th:only-of-type {\n",
       "        vertical-align: middle;\n",
       "    }\n",
       "\n",
       "    .dataframe tbody tr th {\n",
       "        vertical-align: top;\n",
       "    }\n",
       "\n",
       "    .dataframe thead th {\n",
       "        text-align: right;\n",
       "    }\n",
       "</style>\n",
       "<table border=\"1\" class=\"dataframe\">\n",
       "  <thead>\n",
       "    <tr style=\"text-align: right;\">\n",
       "      <th></th>\n",
       "      <th>152542</th>\n",
       "      <th>152543</th>\n",
       "      <th>152544</th>\n",
       "      <th>152545</th>\n",
       "      <th>152546</th>\n",
       "      <th>152547</th>\n",
       "      <th>152548</th>\n",
       "      <th>152549</th>\n",
       "      <th>152550</th>\n",
       "      <th>152551</th>\n",
       "      <th>...</th>\n",
       "      <th>153550</th>\n",
       "      <th>153551</th>\n",
       "      <th>153552</th>\n",
       "      <th>153553</th>\n",
       "      <th>153554</th>\n",
       "      <th>153555</th>\n",
       "      <th>153556</th>\n",
       "      <th>153557</th>\n",
       "      <th>153558</th>\n",
       "      <th>153559</th>\n",
       "    </tr>\n",
       "  </thead>\n",
       "  <tbody>\n",
       "    <tr>\n",
       "      <th>amyg</th>\n",
       "      <td>0.073838</td>\n",
       "      <td>0.091679</td>\n",
       "      <td>0.108897</td>\n",
       "      <td>0.100483</td>\n",
       "      <td>0.084544</td>\n",
       "      <td>0.07832</td>\n",
       "      <td>0.080565</td>\n",
       "      <td>0.086635</td>\n",
       "      <td>0.090915</td>\n",
       "      <td>0.086012</td>\n",
       "      <td>...</td>\n",
       "      <td>0.118902</td>\n",
       "      <td>0.156906</td>\n",
       "      <td>0.184074</td>\n",
       "      <td>0.203901</td>\n",
       "      <td>0.227996</td>\n",
       "      <td>0.227347</td>\n",
       "      <td>0.165172</td>\n",
       "      <td>0.122354</td>\n",
       "      <td>0.11082</td>\n",
       "      <td>0.089892</td>\n",
       "    </tr>\n",
       "    <tr>\n",
       "      <th>NAcc</th>\n",
       "      <td>0.05067</td>\n",
       "      <td>0.064644</td>\n",
       "      <td>0.087529</td>\n",
       "      <td>0.104107</td>\n",
       "      <td>0.105563</td>\n",
       "      <td>0.093561</td>\n",
       "      <td>0.069265</td>\n",
       "      <td>0.042251</td>\n",
       "      <td>0.032973</td>\n",
       "      <td>0.045896</td>\n",
       "      <td>...</td>\n",
       "      <td>0.096113</td>\n",
       "      <td>0.097489</td>\n",
       "      <td>0.104335</td>\n",
       "      <td>0.109874</td>\n",
       "      <td>0.108508</td>\n",
       "      <td>0.103598</td>\n",
       "      <td>0.107869</td>\n",
       "      <td>0.099271</td>\n",
       "      <td>0.103902</td>\n",
       "      <td>0.117576</td>\n",
       "    </tr>\n",
       "  </tbody>\n",
       "</table>\n",
       "<p>2 rows × 1018 columns</p>\n",
       "</div>"
      ],
      "text/plain": [
       "        152542    152543    152544    152545    152546    152547    152548  \\\n",
       "amyg  0.073838  0.091679  0.108897  0.100483  0.084544   0.07832  0.080565   \n",
       "NAcc   0.05067  0.064644  0.087529  0.104107  0.105563  0.093561  0.069265   \n",
       "\n",
       "        152549    152550    152551  ...    153550    153551    153552  \\\n",
       "amyg  0.086635  0.090915  0.086012  ...  0.118902  0.156906  0.184074   \n",
       "NAcc  0.042251  0.032973  0.045896  ...  0.096113  0.097489  0.104335   \n",
       "\n",
       "        153553    153554    153555    153556    153557    153558    153559  \n",
       "amyg  0.203901  0.227996  0.227347  0.165172  0.122354   0.11082  0.089892  \n",
       "NAcc  0.109874  0.108508  0.103598  0.107869  0.099271  0.103902  0.117576  \n",
       "\n",
       "[2 rows x 1018 columns]"
      ]
     },
     "execution_count": 14,
     "metadata": {},
     "output_type": "execute_result"
    }
   ],
   "source": [
    "human_df.iloc[:,152542:153560]"
   ]
  },
  {
   "cell_type": "code",
   "execution_count": null,
   "id": "150b63cd-4308-4c6b-919e-9a492ca75beb",
   "metadata": {},
   "outputs": [],
   "source": []
  },
  {
   "cell_type": "code",
   "execution_count": 15,
   "id": "11d57baa",
   "metadata": {
    "scrolled": true
   },
   "outputs": [
    {
     "data": {
      "application/vnd.jupyter.widget-view+json": {
       "model_id": "778ae8d2d09c49ffb035e45f46ef9e4c",
       "version_major": 2,
       "version_minor": 0
      },
      "text/plain": [
       "Normalizing Columns:   0%|          | 0/902629 [00:00<?, ?it/s]"
      ]
     },
     "metadata": {},
     "output_type": "display_data"
    },
    {
     "data": {
      "text/html": [
       "<div>\n",
       "<style scoped>\n",
       "    .dataframe tbody tr th:only-of-type {\n",
       "        vertical-align: middle;\n",
       "    }\n",
       "\n",
       "    .dataframe tbody tr th {\n",
       "        vertical-align: top;\n",
       "    }\n",
       "\n",
       "    .dataframe thead th {\n",
       "        text-align: right;\n",
       "    }\n",
       "</style>\n",
       "<table border=\"1\" class=\"dataframe\">\n",
       "  <thead>\n",
       "    <tr style=\"text-align: right;\">\n",
       "      <th></th>\n",
       "      <th>152542</th>\n",
       "      <th>152543</th>\n",
       "      <th>152544</th>\n",
       "      <th>152545</th>\n",
       "      <th>152546</th>\n",
       "      <th>152547</th>\n",
       "      <th>152548</th>\n",
       "      <th>152549</th>\n",
       "      <th>152550</th>\n",
       "      <th>152551</th>\n",
       "      <th>...</th>\n",
       "      <th>153550</th>\n",
       "      <th>153551</th>\n",
       "      <th>153552</th>\n",
       "      <th>153553</th>\n",
       "      <th>153554</th>\n",
       "      <th>153555</th>\n",
       "      <th>153556</th>\n",
       "      <th>153557</th>\n",
       "      <th>153558</th>\n",
       "      <th>153559</th>\n",
       "    </tr>\n",
       "  </thead>\n",
       "  <tbody>\n",
       "    <tr>\n",
       "      <th>amyg</th>\n",
       "      <td>1.0</td>\n",
       "      <td>1.0</td>\n",
       "      <td>1.0</td>\n",
       "      <td>0.0</td>\n",
       "      <td>0.0</td>\n",
       "      <td>0.0</td>\n",
       "      <td>1.0</td>\n",
       "      <td>1.0</td>\n",
       "      <td>1.0</td>\n",
       "      <td>1.0</td>\n",
       "      <td>...</td>\n",
       "      <td>1.0</td>\n",
       "      <td>1.0</td>\n",
       "      <td>1.0</td>\n",
       "      <td>1.0</td>\n",
       "      <td>1.0</td>\n",
       "      <td>1.0</td>\n",
       "      <td>1.0</td>\n",
       "      <td>1.0</td>\n",
       "      <td>1.0</td>\n",
       "      <td>0.0</td>\n",
       "    </tr>\n",
       "    <tr>\n",
       "      <th>NAcc</th>\n",
       "      <td>0.0</td>\n",
       "      <td>0.0</td>\n",
       "      <td>0.0</td>\n",
       "      <td>1.0</td>\n",
       "      <td>1.0</td>\n",
       "      <td>1.0</td>\n",
       "      <td>0.0</td>\n",
       "      <td>0.0</td>\n",
       "      <td>0.0</td>\n",
       "      <td>0.0</td>\n",
       "      <td>...</td>\n",
       "      <td>0.0</td>\n",
       "      <td>0.0</td>\n",
       "      <td>0.0</td>\n",
       "      <td>0.0</td>\n",
       "      <td>0.0</td>\n",
       "      <td>0.0</td>\n",
       "      <td>0.0</td>\n",
       "      <td>0.0</td>\n",
       "      <td>0.0</td>\n",
       "      <td>1.0</td>\n",
       "    </tr>\n",
       "  </tbody>\n",
       "</table>\n",
       "<p>2 rows × 1018 columns</p>\n",
       "</div>"
      ],
      "text/plain": [
       "     152542 152543 152544 152545 152546 152547 152548 152549 152550 152551  \\\n",
       "amyg    1.0    1.0    1.0    0.0    0.0    0.0    1.0    1.0    1.0    1.0   \n",
       "NAcc    0.0    0.0    0.0    1.0    1.0    1.0    0.0    0.0    0.0    0.0   \n",
       "\n",
       "      ... 153550 153551 153552 153553 153554 153555 153556 153557 153558  \\\n",
       "amyg  ...    1.0    1.0    1.0    1.0    1.0    1.0    1.0    1.0    1.0   \n",
       "NAcc  ...    0.0    0.0    0.0    0.0    0.0    0.0    0.0    0.0    0.0   \n",
       "\n",
       "     153559  \n",
       "amyg    0.0  \n",
       "NAcc    1.0  \n",
       "\n",
       "[2 rows x 1018 columns]"
      ]
     },
     "execution_count": 15,
     "metadata": {},
     "output_type": "execute_result"
    }
   ],
   "source": [
    "# Normalise human voxel fingerprints\n",
    "\n",
    "human_df_norm = human_df.copy()\n",
    "\n",
    "tqdm.pandas(desc=\"Normalizing Columns\")\n",
    "human_df_norm = human_df.progress_apply(lambda x: normalize_column(x))\n",
    "\n",
    "human_df_norm.iloc[:,152542:153560]\n"
   ]
  },
  {
   "cell_type": "code",
   "execution_count": 16,
   "id": "7e327448",
   "metadata": {},
   "outputs": [
    {
     "data": {
      "application/vnd.jupyter.widget-view+json": {
       "model_id": "9fbfc52d7ecf46adbfbb33b6905a5ad8",
       "version_major": 2,
       "version_minor": 0
      },
      "text/plain": [
       "Mouse Columns:   0%|          | 0/12 [00:00<?, ?it/s]"
      ]
     },
     "metadata": {},
     "output_type": "display_data"
    },
    {
     "data": {
      "application/vnd.jupyter.widget-view+json": {
       "model_id": "7ab0263ec11f4784a8b0b6cb721ef4cc",
       "version_major": 2,
       "version_minor": 0
      },
      "text/plain": [
       "Human Columns:   0%|          | 0/902629 [00:00<?, ?it/s]"
      ]
     },
     "metadata": {},
     "output_type": "display_data"
    },
    {
     "name": "stdout",
     "output_type": "stream",
     "text": [
      "0.1789993452459427\n"
     ]
    },
    {
     "data": {
      "application/vnd.jupyter.widget-view+json": {
       "model_id": "13250f21795f428a83d44a0bea2a1371",
       "version_major": 2,
       "version_minor": 0
      },
      "text/plain": [
       "Human Columns:   0%|          | 0/902629 [00:00<?, ?it/s]"
      ]
     },
     "metadata": {},
     "output_type": "display_data"
    },
    {
     "name": "stdout",
     "output_type": "stream",
     "text": [
      "0.1789993452459427\n"
     ]
    },
    {
     "data": {
      "application/vnd.jupyter.widget-view+json": {
       "model_id": "405955b1753b4d4392a00e64596f3339",
       "version_major": 2,
       "version_minor": 0
      },
      "text/plain": [
       "Human Columns:   0%|          | 0/902629 [00:00<?, ?it/s]"
      ]
     },
     "metadata": {},
     "output_type": "display_data"
    },
    {
     "name": "stdout",
     "output_type": "stream",
     "text": [
      "0.1789993452459427\n"
     ]
    },
    {
     "data": {
      "application/vnd.jupyter.widget-view+json": {
       "model_id": "5d971b59c191460a8cb781f327396368",
       "version_major": 2,
       "version_minor": 0
      },
      "text/plain": [
       "Human Columns:   0%|          | 0/902629 [00:00<?, ?it/s]"
      ]
     },
     "metadata": {},
     "output_type": "display_data"
    },
    {
     "name": "stdout",
     "output_type": "stream",
     "text": [
      "0.1789993452459427\n"
     ]
    },
    {
     "data": {
      "application/vnd.jupyter.widget-view+json": {
       "model_id": "c8a0193abde74cca813313533a7fb79d",
       "version_major": 2,
       "version_minor": 0
      },
      "text/plain": [
       "Human Columns:   0%|          | 0/902629 [00:00<?, ?it/s]"
      ]
     },
     "metadata": {},
     "output_type": "display_data"
    },
    {
     "name": "stdout",
     "output_type": "stream",
     "text": [
      "0.1789993452459427\n"
     ]
    },
    {
     "data": {
      "application/vnd.jupyter.widget-view+json": {
       "model_id": "786e039da6f64805869a5cc7ca11113f",
       "version_major": 2,
       "version_minor": 0
      },
      "text/plain": [
       "Human Columns:   0%|          | 0/902629 [00:00<?, ?it/s]"
      ]
     },
     "metadata": {},
     "output_type": "display_data"
    },
    {
     "name": "stdout",
     "output_type": "stream",
     "text": [
      "0.1789993452459427\n"
     ]
    },
    {
     "data": {
      "application/vnd.jupyter.widget-view+json": {
       "model_id": "3ce5f1b5eafb4681bc3c3c7ac96edcfc",
       "version_major": 2,
       "version_minor": 0
      },
      "text/plain": [
       "Human Columns:   0%|          | 0/902629 [00:00<?, ?it/s]"
      ]
     },
     "metadata": {},
     "output_type": "display_data"
    },
    {
     "name": "stdout",
     "output_type": "stream",
     "text": [
      "0.1789993452459427\n"
     ]
    },
    {
     "data": {
      "application/vnd.jupyter.widget-view+json": {
       "model_id": "5f08f283a99d456cb1cc872237cea497",
       "version_major": 2,
       "version_minor": 0
      },
      "text/plain": [
       "Human Columns:   0%|          | 0/902629 [00:00<?, ?it/s]"
      ]
     },
     "metadata": {},
     "output_type": "display_data"
    },
    {
     "name": "stdout",
     "output_type": "stream",
     "text": [
      "0.1789993452459427\n"
     ]
    },
    {
     "data": {
      "application/vnd.jupyter.widget-view+json": {
       "model_id": "db8aac8240074c5ab30e167cc58a305b",
       "version_major": 2,
       "version_minor": 0
      },
      "text/plain": [
       "Human Columns:   0%|          | 0/902629 [00:00<?, ?it/s]"
      ]
     },
     "metadata": {},
     "output_type": "display_data"
    },
    {
     "name": "stdout",
     "output_type": "stream",
     "text": [
      "0.1789993452459427\n"
     ]
    },
    {
     "data": {
      "application/vnd.jupyter.widget-view+json": {
       "model_id": "45fe94fe15d44aabad6982f7f7fee664",
       "version_major": 2,
       "version_minor": 0
      },
      "text/plain": [
       "Human Columns:   0%|          | 0/902629 [00:00<?, ?it/s]"
      ]
     },
     "metadata": {},
     "output_type": "display_data"
    },
    {
     "name": "stdout",
     "output_type": "stream",
     "text": [
      "0.1789993452459427\n"
     ]
    },
    {
     "data": {
      "application/vnd.jupyter.widget-view+json": {
       "model_id": "f5cc358b451f48e184f74ded41584d6a",
       "version_major": 2,
       "version_minor": 0
      },
      "text/plain": [
       "Human Columns:   0%|          | 0/902629 [00:00<?, ?it/s]"
      ]
     },
     "metadata": {},
     "output_type": "display_data"
    },
    {
     "name": "stdout",
     "output_type": "stream",
     "text": [
      "0.1789993452459427\n"
     ]
    },
    {
     "data": {
      "application/vnd.jupyter.widget-view+json": {
       "model_id": "86e90dde43e843b6a1079f9796da3395",
       "version_major": 2,
       "version_minor": 0
      },
      "text/plain": [
       "Human Columns:   0%|          | 0/902629 [00:00<?, ?it/s]"
      ]
     },
     "metadata": {},
     "output_type": "display_data"
    },
    {
     "name": "stdout",
     "output_type": "stream",
     "text": [
      "0.1789993452459427\n"
     ]
    },
    {
     "data": {
      "image/png": "[encoded data removed]",
      "text/plain": [
       "<Figure size 640x480 with 1 Axes>"
      ]
     },
     "metadata": {},
     "output_type": "display_data"
    }
   ],
   "source": [
    "# Match human voxel fingerprints to mouse seed fingerprints\n",
    "\n",
    "from tqdm.notebook import tqdm\n",
    "\n",
    "for columni, column in tqdm(enumerate(mouse_df_norm.columns), desc=\"Mouse Columns\", total=len(mouse_df_norm.columns)):\n",
    "    mouse_fingerprint = mouse_df_norm[column].values.reshape(1,-1)\n",
    "    \n",
    "    fingerprint_results2d = np.zeros(human_mask2d.shape)\n",
    "    fingerprint_results_coordi = np.zeros(human_mask.shape)\n",
    "\n",
    "    true_indices = np.where(human_mask2d[:, 0])[0]  \n",
    "\n",
    "    for voxeli, voxel in tqdm(enumerate(human_df_norm.columns), desc=\"Human Columns\", total=len(human_df_norm.columns), leave=True):\n",
    "    \n",
    "        human_voxel_fingerprint = human_df_norm[voxel].values.astype(float).reshape(1, -1)  # Convert to float\n",
    "\n",
    "        if not np.isnan(human_voxel_fingerprint).all():\n",
    "            fcossim = cosine_similarity(mouse_fingerprint, human_voxel_fingerprint)[0][0]\n",
    "            fingerprint_results2d[voxeli] = fcossim\n",
    "        \n",
    "    fingerprint_results_coordi[:, :, :] = fingerprint_results2d.reshape(human_mask.shape)\n",
    "\n",
    "    print(np.mean(fingerprint_results_coordi))\n",
    "\n",
    "    # Save the results for each seed\n",
    "    fingerprint_results_img = nib.Nifti1Image(fingerprint_results_coordi, human_mask_img.affine, human_mask_img.header)\n",
    "    # nib.save(fingerprint_results_img, f'mouse2human_2targA_seed{columni+1}.nii.gz')\n",
    "    \n",
    "\n",
    "    plt.imshow(fingerprint_results_coordi[30,:,:].T,cmap='hot')"
   ]
  },
  {
   "cell_type": "code",
   "execution_count": null,
   "id": "cb55eafa",
   "metadata": {},
   "outputs": [],
   "source": []
  },
  {
   "cell_type": "code",
   "execution_count": null,
   "id": "16586b08",
   "metadata": {},
   "outputs": [],
   "source": []
  },
  {
   "cell_type": "code",
   "execution_count": null,
   "id": "e4f83605-2616-4e44-a0c5-895e90d88d8c",
   "metadata": {},
   "outputs": [],
   "source": []
  }
 ],
 "metadata": {
  "kernelspec": {
   "display_name": "Python 3 (ipykernel)",
   "language": "python",
   "name": "python3"
  },
  "language_info": {
   "codemirror_mode": {
    "name": "ipython",
    "version": 3
   },
   "file_extension": ".py",
   "mimetype": "text/x-python",
   "name": "python",
   "nbconvert_exporter": "python",
   "pygments_lexer": "ipython3",
   "version": "3.12.3"
  }
 },
 "nbformat": 4,
 "nbformat_minor": 5
}
